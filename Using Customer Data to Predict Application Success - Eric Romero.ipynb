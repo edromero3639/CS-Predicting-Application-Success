{
 "cells": [
  {
   "cell_type": "markdown",
   "metadata": {},
   "source": [
    "## Using Customer Data to Predict Application Success\n",
    "#### Eric Romero"
   ]
  },
  {
   "cell_type": "markdown",
   "metadata": {},
   "source": [
    "### Table of Contents:\n",
    "\n",
    "   * <a href=\"#1\"> Business Understanding </a>\n",
    "   * <a href=\"#2\"> Data Evaluation/Engineering </a>\n",
    "   * <a href=\"#3\"> Modeling Preparations </a>\n",
    "   * <a href=\"#4\"> Model Building and Evaluation </a>\n",
    "   * <a href=\"#5\"> Model Interpretability and Explainability </a>\n",
    "   * <a href=\"#6\"> Conclusions </a>"
   ]
  },
  {
   "cell_type": "markdown",
   "metadata": {},
   "source": [
    "<a id=\"1\"></a>\n",
    "## Business Understanding\n",
    "**Problem description**\n",
    "One aspect of our business involves calling potential customers (leads) who inquire about our products. In the best-case scenario, these customers work with our licensed sales agents to submit an application for a new policy (we consider this a sale). The typical structure this process takes is:\n",
    "\n",
    "1. We create a **prediction score** for all available uncontacted leads at the time of a match.\n",
    "2. The agent will match with the “best” *uncontacted* lead and call that lead.\n",
    "3. If the customer is not available, we put the lead back in the inventory of available leads for later consideration.  \n",
    "4. If the customer is available, the agent engages in a conversation; this is a **contact**.\n",
    "5. Agent assesses the customer’s interest and eligibility in our products.\n",
    "6. If applicable, the agent provides custom pricing information; this is a **quote**.\n",
    "7. If the customer is interested, the agent helps the customer submit an **application**.\n",
    "\n",
    "**Problem:** How do we use available data to improve our prediction score (1) to maximize sales?"
   ]
  },
  {
   "cell_type": "markdown",
   "metadata": {},
   "source": [
    "<a id=\"2\"></a>\n",
    "## Data Evaluation/Engineering"
   ]
  },
  {
   "cell_type": "code",
   "execution_count": 1,
   "metadata": {},
   "outputs": [
    {
     "data": {
      "text/plain": [
       "(147656, 26)"
      ]
     },
     "execution_count": 1,
     "metadata": {},
     "output_type": "execute_result"
    }
   ],
   "source": [
    "import pandas as pd\n",
    "import numpy as np\n",
    "\n",
    "df = pd.read_csv('jds_project_data.csv')\n",
    "df.shape"
   ]
  },
  {
   "cell_type": "code",
   "execution_count": 2,
   "metadata": {},
   "outputs": [
    {
     "data": {
      "text/html": [
       "<div>\n",
       "<style scoped>\n",
       "    .dataframe tbody tr th:only-of-type {\n",
       "        vertical-align: middle;\n",
       "    }\n",
       "\n",
       "    .dataframe tbody tr th {\n",
       "        vertical-align: top;\n",
       "    }\n",
       "\n",
       "    .dataframe thead th {\n",
       "        text-align: right;\n",
       "    }\n",
       "</style>\n",
       "<table border=\"1\" class=\"dataframe\">\n",
       "  <thead>\n",
       "    <tr style=\"text-align: right;\">\n",
       "      <th></th>\n",
       "      <th>match_id</th>\n",
       "      <th>lead_id</th>\n",
       "      <th>agent_id</th>\n",
       "      <th>lead_source_id</th>\n",
       "      <th>lead_creation_date</th>\n",
       "      <th>matched_at</th>\n",
       "      <th>dial_count</th>\n",
       "      <th>source_type</th>\n",
       "      <th>state</th>\n",
       "      <th>gender</th>\n",
       "      <th>age</th>\n",
       "      <th>lead_cost</th>\n",
       "      <th>result</th>\n",
       "      <th>lead_age_at_acquisition</th>\n",
       "      <th>prepaid_phone</th>\n",
       "      <th>phone_in_service</th>\n",
       "      <th>phone_type</th>\n",
       "      <th>email_score</th>\n",
       "      <th>email_valid</th>\n",
       "      <th>phone_score</th>\n",
       "      <th>contact_score</th>\n",
       "      <th>block_score</th>\n",
       "      <th>email_reason</th>\n",
       "      <th>contact</th>\n",
       "      <th>quote</th>\n",
       "      <th>app</th>\n",
       "    </tr>\n",
       "  </thead>\n",
       "  <tbody>\n",
       "    <tr>\n",
       "      <th>0</th>\n",
       "      <td>40667</td>\n",
       "      <td>12289</td>\n",
       "      <td>174</td>\n",
       "      <td>8</td>\n",
       "      <td>1/19/2021 12:08</td>\n",
       "      <td>1/19/2021 12:43</td>\n",
       "      <td>1</td>\n",
       "      <td>DELIVERY</td>\n",
       "      <td>AR</td>\n",
       "      <td>Female</td>\n",
       "      <td>65</td>\n",
       "      <td>4.22</td>\n",
       "      <td>2.0</td>\n",
       "      <td>57.7072</td>\n",
       "      <td>Y</td>\n",
       "      <td>I2</td>\n",
       "      <td>NaN</td>\n",
       "      <td>10.0</td>\n",
       "      <td>1.0</td>\n",
       "      <td>62</td>\n",
       "      <td>36.0</td>\n",
       "      <td>47.948863</td>\n",
       "      <td>0.0</td>\n",
       "      <td>0</td>\n",
       "      <td>0</td>\n",
       "      <td>0</td>\n",
       "    </tr>\n",
       "    <tr>\n",
       "      <th>1</th>\n",
       "      <td>144108</td>\n",
       "      <td>30625</td>\n",
       "      <td>176</td>\n",
       "      <td>83</td>\n",
       "      <td>1/22/2021 20:41</td>\n",
       "      <td>1/25/2021 16:03</td>\n",
       "      <td>2</td>\n",
       "      <td>FORM</td>\n",
       "      <td>MS</td>\n",
       "      <td>NaN</td>\n",
       "      <td>66</td>\n",
       "      <td>13.79</td>\n",
       "      <td>NaN</td>\n",
       "      <td>NaN</td>\n",
       "      <td>N</td>\n",
       "      <td>A7</td>\n",
       "      <td>NaN</td>\n",
       "      <td>95.0</td>\n",
       "      <td>1.0</td>\n",
       "      <td>98</td>\n",
       "      <td>96.5</td>\n",
       "      <td>73.383948</td>\n",
       "      <td>0.0</td>\n",
       "      <td>0</td>\n",
       "      <td>0</td>\n",
       "      <td>0</td>\n",
       "    </tr>\n",
       "    <tr>\n",
       "      <th>2</th>\n",
       "      <td>4314</td>\n",
       "      <td>4446</td>\n",
       "      <td>91</td>\n",
       "      <td>50</td>\n",
       "      <td>1/17/2021 18:48</td>\n",
       "      <td>1/18/2021 9:25</td>\n",
       "      <td>3</td>\n",
       "      <td>DELIVERY</td>\n",
       "      <td>WI</td>\n",
       "      <td>Male</td>\n",
       "      <td>74</td>\n",
       "      <td>65.00</td>\n",
       "      <td>2.0</td>\n",
       "      <td>351.5950</td>\n",
       "      <td>Y</td>\n",
       "      <td>A7</td>\n",
       "      <td>NaN</td>\n",
       "      <td>85.0</td>\n",
       "      <td>1.0</td>\n",
       "      <td>98</td>\n",
       "      <td>91.5</td>\n",
       "      <td>58.877858</td>\n",
       "      <td>0.0</td>\n",
       "      <td>0</td>\n",
       "      <td>0</td>\n",
       "      <td>0</td>\n",
       "    </tr>\n",
       "    <tr>\n",
       "      <th>3</th>\n",
       "      <td>89955</td>\n",
       "      <td>20851</td>\n",
       "      <td>228</td>\n",
       "      <td>15</td>\n",
       "      <td>1/20/2021 18:53</td>\n",
       "      <td>1/21/2021 11:17</td>\n",
       "      <td>4</td>\n",
       "      <td>DELIVERY</td>\n",
       "      <td>OK</td>\n",
       "      <td>Female</td>\n",
       "      <td>80</td>\n",
       "      <td>1.76</td>\n",
       "      <td>2.0</td>\n",
       "      <td>4.6066</td>\n",
       "      <td>N</td>\n",
       "      <td>A7</td>\n",
       "      <td>NaN</td>\n",
       "      <td>85.0</td>\n",
       "      <td>1.0</td>\n",
       "      <td>99</td>\n",
       "      <td>92.0</td>\n",
       "      <td>55.408187</td>\n",
       "      <td>0.0</td>\n",
       "      <td>0</td>\n",
       "      <td>0</td>\n",
       "      <td>0</td>\n",
       "    </tr>\n",
       "    <tr>\n",
       "      <th>4</th>\n",
       "      <td>77985</td>\n",
       "      <td>20544</td>\n",
       "      <td>168</td>\n",
       "      <td>109</td>\n",
       "      <td>1/20/2021 17:57</td>\n",
       "      <td>1/20/2021 17:57</td>\n",
       "      <td>0</td>\n",
       "      <td>FORM</td>\n",
       "      <td>WY</td>\n",
       "      <td>NaN</td>\n",
       "      <td>78</td>\n",
       "      <td>48.07</td>\n",
       "      <td>NaN</td>\n",
       "      <td>NaN</td>\n",
       "      <td>N</td>\n",
       "      <td>I1</td>\n",
       "      <td>NaN</td>\n",
       "      <td>85.0</td>\n",
       "      <td>1.0</td>\n",
       "      <td>50</td>\n",
       "      <td>67.5</td>\n",
       "      <td>77.281536</td>\n",
       "      <td>0.0</td>\n",
       "      <td>0</td>\n",
       "      <td>0</td>\n",
       "      <td>0</td>\n",
       "    </tr>\n",
       "  </tbody>\n",
       "</table>\n",
       "</div>"
      ],
      "text/plain": [
       "   match_id  lead_id  agent_id  lead_source_id lead_creation_date  \\\n",
       "0     40667    12289       174               8    1/19/2021 12:08   \n",
       "1    144108    30625       176              83    1/22/2021 20:41   \n",
       "2      4314     4446        91              50    1/17/2021 18:48   \n",
       "3     89955    20851       228              15    1/20/2021 18:53   \n",
       "4     77985    20544       168             109    1/20/2021 17:57   \n",
       "\n",
       "        matched_at  dial_count source_type state  gender  age  lead_cost  \\\n",
       "0  1/19/2021 12:43           1    DELIVERY    AR  Female   65       4.22   \n",
       "1  1/25/2021 16:03           2        FORM    MS     NaN   66      13.79   \n",
       "2   1/18/2021 9:25           3    DELIVERY    WI    Male   74      65.00   \n",
       "3  1/21/2021 11:17           4    DELIVERY    OK  Female   80       1.76   \n",
       "4  1/20/2021 17:57           0        FORM    WY     NaN   78      48.07   \n",
       "\n",
       "   result  lead_age_at_acquisition prepaid_phone phone_in_service  phone_type  \\\n",
       "0     2.0                  57.7072             Y               I2         NaN   \n",
       "1     NaN                      NaN             N               A7         NaN   \n",
       "2     2.0                 351.5950             Y               A7         NaN   \n",
       "3     2.0                   4.6066             N               A7         NaN   \n",
       "4     NaN                      NaN             N               I1         NaN   \n",
       "\n",
       "   email_score  email_valid  phone_score  contact_score  block_score  \\\n",
       "0         10.0          1.0           62           36.0    47.948863   \n",
       "1         95.0          1.0           98           96.5    73.383948   \n",
       "2         85.0          1.0           98           91.5    58.877858   \n",
       "3         85.0          1.0           99           92.0    55.408187   \n",
       "4         85.0          1.0           50           67.5    77.281536   \n",
       "\n",
       "   email_reason  contact  quote  app  \n",
       "0           0.0        0      0    0  \n",
       "1           0.0        0      0    0  \n",
       "2           0.0        0      0    0  \n",
       "3           0.0        0      0    0  \n",
       "4           0.0        0      0    0  "
      ]
     },
     "execution_count": 2,
     "metadata": {},
     "output_type": "execute_result"
    }
   ],
   "source": [
    "pd.set_option('display.max_columns', None)\n",
    "df.head()"
   ]
  },
  {
   "cell_type": "code",
   "execution_count": 3,
   "metadata": {},
   "outputs": [
    {
     "data": {
      "text/html": [
       "<div>\n",
       "<style scoped>\n",
       "    .dataframe tbody tr th:only-of-type {\n",
       "        vertical-align: middle;\n",
       "    }\n",
       "\n",
       "    .dataframe tbody tr th {\n",
       "        vertical-align: top;\n",
       "    }\n",
       "\n",
       "    .dataframe thead th {\n",
       "        text-align: right;\n",
       "    }\n",
       "</style>\n",
       "<table border=\"1\" class=\"dataframe\">\n",
       "  <thead>\n",
       "    <tr style=\"text-align: right;\">\n",
       "      <th></th>\n",
       "      <th>match_id</th>\n",
       "      <th>lead_id</th>\n",
       "      <th>agent_id</th>\n",
       "      <th>lead_source_id</th>\n",
       "      <th>dial_count</th>\n",
       "      <th>age</th>\n",
       "      <th>lead_cost</th>\n",
       "      <th>result</th>\n",
       "      <th>lead_age_at_acquisition</th>\n",
       "      <th>phone_type</th>\n",
       "      <th>email_score</th>\n",
       "      <th>email_valid</th>\n",
       "      <th>phone_score</th>\n",
       "      <th>contact_score</th>\n",
       "      <th>block_score</th>\n",
       "      <th>email_reason</th>\n",
       "      <th>contact</th>\n",
       "      <th>quote</th>\n",
       "      <th>app</th>\n",
       "    </tr>\n",
       "  </thead>\n",
       "  <tbody>\n",
       "    <tr>\n",
       "      <th>count</th>\n",
       "      <td>147656.000000</td>\n",
       "      <td>147656.000000</td>\n",
       "      <td>147656.000000</td>\n",
       "      <td>147656.000000</td>\n",
       "      <td>147656.000000</td>\n",
       "      <td>147656.00000</td>\n",
       "      <td>147656.000000</td>\n",
       "      <td>108572.000000</td>\n",
       "      <td>1.060410e+05</td>\n",
       "      <td>0.0</td>\n",
       "      <td>147222.000000</td>\n",
       "      <td>147222.000000</td>\n",
       "      <td>147656.000000</td>\n",
       "      <td>147222.000000</td>\n",
       "      <td>147656.000000</td>\n",
       "      <td>147222.000000</td>\n",
       "      <td>147656.000000</td>\n",
       "      <td>147656.000000</td>\n",
       "      <td>147656.000000</td>\n",
       "    </tr>\n",
       "    <tr>\n",
       "      <th>mean</th>\n",
       "      <td>73828.500000</td>\n",
       "      <td>18091.522525</td>\n",
       "      <td>143.007308</td>\n",
       "      <td>48.922645</td>\n",
       "      <td>2.465900</td>\n",
       "      <td>69.47912</td>\n",
       "      <td>24.762718</td>\n",
       "      <td>2.060771</td>\n",
       "      <td>6.167786e+03</td>\n",
       "      <td>NaN</td>\n",
       "      <td>76.955924</td>\n",
       "      <td>0.984812</td>\n",
       "      <td>83.863561</td>\n",
       "      <td>80.413664</td>\n",
       "      <td>60.044404</td>\n",
       "      <td>0.015188</td>\n",
       "      <td>0.126842</td>\n",
       "      <td>0.014832</td>\n",
       "      <td>0.007064</td>\n",
       "    </tr>\n",
       "    <tr>\n",
       "      <th>std</th>\n",
       "      <td>42624.760011</td>\n",
       "      <td>10109.974973</td>\n",
       "      <td>78.171827</td>\n",
       "      <td>30.328654</td>\n",
       "      <td>2.132447</td>\n",
       "      <td>6.89628</td>\n",
       "      <td>25.844823</td>\n",
       "      <td>0.238910</td>\n",
       "      <td>7.432692e+04</td>\n",
       "      <td>NaN</td>\n",
       "      <td>19.612210</td>\n",
       "      <td>0.173624</td>\n",
       "      <td>19.983432</td>\n",
       "      <td>15.280422</td>\n",
       "      <td>9.973104</td>\n",
       "      <td>0.173624</td>\n",
       "      <td>0.332797</td>\n",
       "      <td>0.120880</td>\n",
       "      <td>0.083749</td>\n",
       "    </tr>\n",
       "    <tr>\n",
       "      <th>min</th>\n",
       "      <td>1.000000</td>\n",
       "      <td>1.000000</td>\n",
       "      <td>1.000000</td>\n",
       "      <td>1.000000</td>\n",
       "      <td>0.000000</td>\n",
       "      <td>0.00000</td>\n",
       "      <td>0.010000</td>\n",
       "      <td>2.000000</td>\n",
       "      <td>0.000000e+00</td>\n",
       "      <td>NaN</td>\n",
       "      <td>0.000000</td>\n",
       "      <td>-1.000000</td>\n",
       "      <td>0.000000</td>\n",
       "      <td>5.000000</td>\n",
       "      <td>13.042236</td>\n",
       "      <td>0.000000</td>\n",
       "      <td>0.000000</td>\n",
       "      <td>0.000000</td>\n",
       "      <td>0.000000</td>\n",
       "    </tr>\n",
       "    <tr>\n",
       "      <th>25%</th>\n",
       "      <td>36914.750000</td>\n",
       "      <td>9631.000000</td>\n",
       "      <td>76.000000</td>\n",
       "      <td>29.000000</td>\n",
       "      <td>1.000000</td>\n",
       "      <td>64.00000</td>\n",
       "      <td>4.630000</td>\n",
       "      <td>2.000000</td>\n",
       "      <td>1.761100e+00</td>\n",
       "      <td>NaN</td>\n",
       "      <td>80.000000</td>\n",
       "      <td>1.000000</td>\n",
       "      <td>70.000000</td>\n",
       "      <td>74.000000</td>\n",
       "      <td>53.335899</td>\n",
       "      <td>0.000000</td>\n",
       "      <td>0.000000</td>\n",
       "      <td>0.000000</td>\n",
       "      <td>0.000000</td>\n",
       "    </tr>\n",
       "    <tr>\n",
       "      <th>50%</th>\n",
       "      <td>73828.500000</td>\n",
       "      <td>17978.000000</td>\n",
       "      <td>146.000000</td>\n",
       "      <td>44.000000</td>\n",
       "      <td>2.000000</td>\n",
       "      <td>67.00000</td>\n",
       "      <td>17.270000</td>\n",
       "      <td>2.000000</td>\n",
       "      <td>3.360200e+00</td>\n",
       "      <td>NaN</td>\n",
       "      <td>85.000000</td>\n",
       "      <td>1.000000</td>\n",
       "      <td>98.000000</td>\n",
       "      <td>87.000000</td>\n",
       "      <td>60.085261</td>\n",
       "      <td>0.000000</td>\n",
       "      <td>0.000000</td>\n",
       "      <td>0.000000</td>\n",
       "      <td>0.000000</td>\n",
       "    </tr>\n",
       "    <tr>\n",
       "      <th>75%</th>\n",
       "      <td>110742.250000</td>\n",
       "      <td>25889.000000</td>\n",
       "      <td>212.000000</td>\n",
       "      <td>66.000000</td>\n",
       "      <td>4.000000</td>\n",
       "      <td>73.00000</td>\n",
       "      <td>38.880000</td>\n",
       "      <td>2.000000</td>\n",
       "      <td>6.031540e+01</td>\n",
       "      <td>NaN</td>\n",
       "      <td>85.000000</td>\n",
       "      <td>1.000000</td>\n",
       "      <td>99.000000</td>\n",
       "      <td>92.000000</td>\n",
       "      <td>66.775954</td>\n",
       "      <td>0.000000</td>\n",
       "      <td>0.000000</td>\n",
       "      <td>0.000000</td>\n",
       "      <td>0.000000</td>\n",
       "    </tr>\n",
       "    <tr>\n",
       "      <th>max</th>\n",
       "      <td>147656.000000</td>\n",
       "      <td>38167.000000</td>\n",
       "      <td>272.000000</td>\n",
       "      <td>119.000000</td>\n",
       "      <td>11.000000</td>\n",
       "      <td>121.00000</td>\n",
       "      <td>526.500000</td>\n",
       "      <td>3.000000</td>\n",
       "      <td>5.696218e+06</td>\n",
       "      <td>NaN</td>\n",
       "      <td>95.000000</td>\n",
       "      <td>1.000000</td>\n",
       "      <td>99.000000</td>\n",
       "      <td>97.000000</td>\n",
       "      <td>100.000000</td>\n",
       "      <td>2.000000</td>\n",
       "      <td>1.000000</td>\n",
       "      <td>1.000000</td>\n",
       "      <td>1.000000</td>\n",
       "    </tr>\n",
       "  </tbody>\n",
       "</table>\n",
       "</div>"
      ],
      "text/plain": [
       "            match_id        lead_id       agent_id  lead_source_id  \\\n",
       "count  147656.000000  147656.000000  147656.000000   147656.000000   \n",
       "mean    73828.500000   18091.522525     143.007308       48.922645   \n",
       "std     42624.760011   10109.974973      78.171827       30.328654   \n",
       "min         1.000000       1.000000       1.000000        1.000000   \n",
       "25%     36914.750000    9631.000000      76.000000       29.000000   \n",
       "50%     73828.500000   17978.000000     146.000000       44.000000   \n",
       "75%    110742.250000   25889.000000     212.000000       66.000000   \n",
       "max    147656.000000   38167.000000     272.000000      119.000000   \n",
       "\n",
       "          dial_count           age      lead_cost         result  \\\n",
       "count  147656.000000  147656.00000  147656.000000  108572.000000   \n",
       "mean        2.465900      69.47912      24.762718       2.060771   \n",
       "std         2.132447       6.89628      25.844823       0.238910   \n",
       "min         0.000000       0.00000       0.010000       2.000000   \n",
       "25%         1.000000      64.00000       4.630000       2.000000   \n",
       "50%         2.000000      67.00000      17.270000       2.000000   \n",
       "75%         4.000000      73.00000      38.880000       2.000000   \n",
       "max        11.000000     121.00000     526.500000       3.000000   \n",
       "\n",
       "       lead_age_at_acquisition  phone_type    email_score    email_valid  \\\n",
       "count             1.060410e+05         0.0  147222.000000  147222.000000   \n",
       "mean              6.167786e+03         NaN      76.955924       0.984812   \n",
       "std               7.432692e+04         NaN      19.612210       0.173624   \n",
       "min               0.000000e+00         NaN       0.000000      -1.000000   \n",
       "25%               1.761100e+00         NaN      80.000000       1.000000   \n",
       "50%               3.360200e+00         NaN      85.000000       1.000000   \n",
       "75%               6.031540e+01         NaN      85.000000       1.000000   \n",
       "max               5.696218e+06         NaN      95.000000       1.000000   \n",
       "\n",
       "         phone_score  contact_score    block_score   email_reason  \\\n",
       "count  147656.000000  147222.000000  147656.000000  147222.000000   \n",
       "mean       83.863561      80.413664      60.044404       0.015188   \n",
       "std        19.983432      15.280422       9.973104       0.173624   \n",
       "min         0.000000       5.000000      13.042236       0.000000   \n",
       "25%        70.000000      74.000000      53.335899       0.000000   \n",
       "50%        98.000000      87.000000      60.085261       0.000000   \n",
       "75%        99.000000      92.000000      66.775954       0.000000   \n",
       "max        99.000000      97.000000     100.000000       2.000000   \n",
       "\n",
       "             contact          quote            app  \n",
       "count  147656.000000  147656.000000  147656.000000  \n",
       "mean        0.126842       0.014832       0.007064  \n",
       "std         0.332797       0.120880       0.083749  \n",
       "min         0.000000       0.000000       0.000000  \n",
       "25%         0.000000       0.000000       0.000000  \n",
       "50%         0.000000       0.000000       0.000000  \n",
       "75%         0.000000       0.000000       0.000000  \n",
       "max         1.000000       1.000000       1.000000  "
      ]
     },
     "execution_count": 3,
     "metadata": {},
     "output_type": "execute_result"
    }
   ],
   "source": [
    "df.describe()"
   ]
  },
  {
   "cell_type": "code",
   "execution_count": 4,
   "metadata": {
    "scrolled": true
   },
   "outputs": [
    {
     "name": "stdout",
     "output_type": "stream",
     "text": [
      "<class 'pandas.core.frame.DataFrame'>\n",
      "RangeIndex: 147656 entries, 0 to 147655\n",
      "Data columns (total 26 columns):\n",
      " #   Column                   Non-Null Count   Dtype  \n",
      "---  ------                   --------------   -----  \n",
      " 0   match_id                 147656 non-null  int64  \n",
      " 1   lead_id                  147656 non-null  int64  \n",
      " 2   agent_id                 147656 non-null  int64  \n",
      " 3   lead_source_id           147656 non-null  int64  \n",
      " 4   lead_creation_date       147656 non-null  object \n",
      " 5   matched_at               147656 non-null  object \n",
      " 6   dial_count               147656 non-null  int64  \n",
      " 7   source_type              147656 non-null  object \n",
      " 8   state                    147656 non-null  object \n",
      " 9   gender                   118781 non-null  object \n",
      " 10  age                      147656 non-null  int64  \n",
      " 11  lead_cost                147656 non-null  float64\n",
      " 12  result                   108572 non-null  float64\n",
      " 13  lead_age_at_acquisition  106041 non-null  float64\n",
      " 14  prepaid_phone            147460 non-null  object \n",
      " 15  phone_in_service         147460 non-null  object \n",
      " 16  phone_type               0 non-null       float64\n",
      " 17  email_score              147222 non-null  float64\n",
      " 18  email_valid              147222 non-null  float64\n",
      " 19  phone_score              147656 non-null  int64  \n",
      " 20  contact_score            147222 non-null  float64\n",
      " 21  block_score              147656 non-null  float64\n",
      " 22  email_reason             147222 non-null  float64\n",
      " 23  contact                  147656 non-null  int64  \n",
      " 24  quote                    147656 non-null  int64  \n",
      " 25  app                      147656 non-null  int64  \n",
      "dtypes: float64(9), int64(10), object(7)\n",
      "memory usage: 29.3+ MB\n"
     ]
    }
   ],
   "source": [
    "df.info()"
   ]
  },
  {
   "cell_type": "markdown",
   "metadata": {},
   "source": [
    "#### Missing Values"
   ]
  },
  {
   "cell_type": "code",
   "execution_count": 5,
   "metadata": {
    "scrolled": true
   },
   "outputs": [
    {
     "name": "stdout",
     "output_type": "stream",
     "text": [
      "match_id                        0\n",
      "lead_id                         0\n",
      "agent_id                        0\n",
      "lead_source_id                  0\n",
      "lead_creation_date              0\n",
      "matched_at                      0\n",
      "dial_count                      0\n",
      "source_type                     0\n",
      "state                           0\n",
      "gender                      28875\n",
      "age                             0\n",
      "lead_cost                       0\n",
      "result                      39084\n",
      "lead_age_at_acquisition     41615\n",
      "prepaid_phone                 196\n",
      "phone_in_service              196\n",
      "phone_type                 147656\n",
      "email_score                   434\n",
      "email_valid                   434\n",
      "phone_score                     0\n",
      "contact_score                 434\n",
      "block_score                     0\n",
      "email_reason                  434\n",
      "contact                         0\n",
      "quote                           0\n",
      "app                             0\n",
      "dtype: int64\n"
     ]
    }
   ],
   "source": [
    "print (df.isnull().sum())"
   ]
  },
  {
   "cell_type": "markdown",
   "metadata": {},
   "source": [
    "#### Initial Data Observations:\n",
    "* Dataset contains mixed data types\n",
    "* Two date and time attributes that will need to be converted to useable format\n",
    "* Several ID attributes that will likely not be useful for predictive models and should be removed\n",
    "* Several Missing data points in multiple columns\n",
    "    * **Phone_type** is missing completely therefore this column should be removed\n",
    "    * Attributes missing <500: if unable to impute missing rows, they can possibly be removed with little impact on the overall data\n",
    "    * Attributes missing >500: need to be looked at individually\n",
    "* Differences in magnitude of values between attributes\n",
    "    * Data will likely need to normalized"
   ]
  },
  {
   "cell_type": "code",
   "execution_count": 6,
   "metadata": {},
   "outputs": [],
   "source": [
    "df = df.drop('phone_type',axis=1) #dropping column as it is missing all values"
   ]
  },
  {
   "cell_type": "code",
   "execution_count": 7,
   "metadata": {},
   "outputs": [
    {
     "data": {
      "text/plain": [
       "Female    73225\n",
       "Male      45556\n",
       "Name: gender, dtype: int64"
      ]
     },
     "execution_count": 7,
     "metadata": {},
     "output_type": "execute_result"
    }
   ],
   "source": [
    "#### Analysis of missing values in 'gender'\n",
    "from collections import Counter\n",
    "df['gender'].value_counts()"
   ]
  },
  {
   "cell_type": "markdown",
   "metadata": {},
   "source": [
    "* **Gender** is heavily skewed towards female, with nearly 30,000 missing values.\n",
    "    * Missing values will be replaced with a \"No Gender\" category, not only will this preserve the original data but allow analysis for customers that do not wish to include gender for various reasons.\n",
    "    * These features will also be one-hot-encoded to be useful in model building\n"
   ]
  },
  {
   "cell_type": "code",
   "execution_count": 8,
   "metadata": {},
   "outputs": [
    {
     "data": {
      "text/plain": [
       "Female       73225\n",
       "Male         45556\n",
       "No Gender    28875\n",
       "Name: gender, dtype: int64"
      ]
     },
     "execution_count": 8,
     "metadata": {},
     "output_type": "execute_result"
    }
   ],
   "source": [
    "df['gender'] = df['gender'].replace(np.nan, 'No Gender')\n",
    "df['gender'].value_counts()"
   ]
  },
  {
   "cell_type": "code",
   "execution_count": 9,
   "metadata": {},
   "outputs": [
    {
     "data": {
      "text/plain": [
       "2.0    101974\n",
       "3.0      6598\n",
       "Name: result, dtype: int64"
      ]
     },
     "execution_count": 9,
     "metadata": {},
     "output_type": "execute_result"
    }
   ],
   "source": [
    "#### Analysis of missing values in 'result'\n",
    "df['result'].value_counts()"
   ]
  },
  {
   "cell_type": "markdown",
   "metadata": {},
   "source": [
    "* **Result** consists of exact values mostly as 2 and some 3, while approximately 39,000 are unknown.\n",
    "    * First assumption is that this is an important attribute based on the title and that it makes up significant portion of the data.\n",
    "    * This is possibly a count of some kind, however without further information instead it will be assumed that this is categorical in nature.\n",
    "    * To preserve the data that is present, missing values will be replaced with a new category (0)"
   ]
  },
  {
   "cell_type": "code",
   "execution_count": 10,
   "metadata": {},
   "outputs": [
    {
     "data": {
      "text/plain": [
       "2.0    101974\n",
       "0.0     39084\n",
       "3.0      6598\n",
       "Name: result, dtype: int64"
      ]
     },
     "execution_count": 10,
     "metadata": {},
     "output_type": "execute_result"
    }
   ],
   "source": [
    "df['result'] = df['result'].replace(np.nan, 0)\n",
    "df['result'].value_counts()"
   ]
  },
  {
   "cell_type": "code",
   "execution_count": 11,
   "metadata": {},
   "outputs": [
    {
     "data": {
      "text/plain": [
       "N    129555\n",
       "Y     17905\n",
       "Name: prepaid_phone, dtype: int64"
      ]
     },
     "execution_count": 11,
     "metadata": {},
     "output_type": "execute_result"
    }
   ],
   "source": [
    "#### Analysis of missing values in 'prepaid_phone'\n",
    "df['prepaid_phone'].value_counts()"
   ]
  },
  {
   "cell_type": "markdown",
   "metadata": {},
   "source": [
    "* The **prepaid_phone** attribute is overhwelmingly 'N' and therefore missing values will be assumed as 'N' to preserve other data in the row"
   ]
  },
  {
   "cell_type": "code",
   "execution_count": 12,
   "metadata": {},
   "outputs": [],
   "source": [
    "df['prepaid_phone'] = df['prepaid_phone'].replace(np.nan, 'N')"
   ]
  },
  {
   "cell_type": "code",
   "execution_count": 13,
   "metadata": {},
   "outputs": [
    {
     "data": {
      "text/plain": [
       "A7    129426\n",
       "I1      4704\n",
       "A1      3319\n",
       "I2      2162\n",
       "A2      1943\n",
       "A6      1277\n",
       "A5      1141\n",
       "I3       942\n",
       "A4       893\n",
       "A3       485\n",
       "I4       460\n",
       "U        448\n",
       "I5       169\n",
       "I6        91\n",
       "Name: phone_in_service, dtype: int64"
      ]
     },
     "execution_count": 13,
     "metadata": {},
     "output_type": "execute_result"
    }
   ],
   "source": [
    "#### Analysis of missing values in 'phone_in_service'\n",
    "df['phone_in_service'].value_counts()"
   ]
  },
  {
   "cell_type": "markdown",
   "metadata": {},
   "source": [
    "* For **phone_in_service** missing values will be replaced with the most common value of 'A7' to preserve other data in the row"
   ]
  },
  {
   "cell_type": "code",
   "execution_count": 14,
   "metadata": {},
   "outputs": [],
   "source": [
    "df['phone_in_service'] = df['phone_in_service'].replace(np.nan, 'A7')"
   ]
  },
  {
   "cell_type": "code",
   "execution_count": 15,
   "metadata": {},
   "outputs": [
    {
     "data": {
      "text/plain": [
       "85.0    78912\n",
       "80.0    22336\n",
       "95.0    12849\n",
       "30.0     6326\n",
       "75.0     6216\n",
       "70.0     5382\n",
       "40.0     4334\n",
       "10.0     3616\n",
       "60.0     3565\n",
       "90.0     1348\n",
       "0.0      1118\n",
       "20.0      797\n",
       "50.0      423\n",
       "Name: email_score, dtype: int64"
      ]
     },
     "execution_count": 15,
     "metadata": {},
     "output_type": "execute_result"
    }
   ],
   "source": [
    "#### Analysis of missing values in 'email_score'\n",
    "df['email_score'].value_counts()"
   ]
  },
  {
   "cell_type": "code",
   "execution_count": 16,
   "metadata": {},
   "outputs": [
    {
     "data": {
      "text/plain": [
       " 1.0    146104\n",
       "-1.0      1118\n",
       "Name: email_valid, dtype: int64"
      ]
     },
     "execution_count": 16,
     "metadata": {},
     "output_type": "execute_result"
    }
   ],
   "source": [
    "#### Analysis of missing values in 'email_valid'\n",
    "df['email_valid'].value_counts()"
   ]
  },
  {
   "cell_type": "code",
   "execution_count": 17,
   "metadata": {},
   "outputs": [
    {
     "data": {
      "text/plain": [
       "0.0    146104\n",
       "2.0      1118\n",
       "Name: email_reason, dtype: int64"
      ]
     },
     "execution_count": 17,
     "metadata": {},
     "output_type": "execute_result"
    }
   ],
   "source": [
    "#### Analysis of missing values in 'email_reason'\n",
    "df['email_reason'].value_counts()"
   ]
  },
  {
   "cell_type": "markdown",
   "metadata": {},
   "source": [
    "* It is immediately notable that all email attributes, including contact scores, are missing the same number of data points and are likely related.\n",
    "    * **email score:** can be imputed from the mean, this would represent the overall average for the company, also the missing values were small in number so this should have little impact on the data while preserving the information in the row.\n",
    "    * **email_valid:** assuming *-1.0* to represent invalid emails, missing values are not known to be invalid necessarily, a category(0) will be included here to differentiate the email scores that will be imputed for these rows\n",
    "    * **email_reason:** looks to be categorical in nature, without further information a category(1) will be created to differentiate these values and preserve row data."
   ]
  },
  {
   "cell_type": "code",
   "execution_count": 18,
   "metadata": {},
   "outputs": [],
   "source": [
    "df['email_valid'] = df['email_valid'].replace(np.nan, 0)\n",
    "df['email_reason'] = df['email_reason'].replace(np.nan, 1)"
   ]
  },
  {
   "cell_type": "code",
   "execution_count": 19,
   "metadata": {},
   "outputs": [],
   "source": [
    "df['email_score'] = df['email_score'].replace(np.nan, df['email_score'].mean(axis = 0, skipna = True)) #replace NaN with column mean"
   ]
  },
  {
   "cell_type": "code",
   "execution_count": 20,
   "metadata": {},
   "outputs": [
    {
     "data": {
      "text/plain": [
       "92.0    31911\n",
       "91.5    15573\n",
       "78.5     7355\n",
       "89.5     6822\n",
       "97.0     6158\n",
       "        ...  \n",
       "45.5        2\n",
       "16.0        2\n",
       "35.5        2\n",
       "26.5        1\n",
       "20.5        1\n",
       "Name: contact_score, Length: 157, dtype: int64"
      ]
     },
     "execution_count": 20,
     "metadata": {},
     "output_type": "execute_result"
    }
   ],
   "source": [
    "#### Analysis of missing values in 'contact_score'\n",
    "df['contact_score'].value_counts()"
   ]
  },
  {
   "cell_type": "markdown",
   "metadata": {},
   "source": [
    "* For **contact_score** missing values will be imputed from the mean similarly to **email_score**. This would represent the overall average for the company, in addition the missing values were small in number so this should have little impact on the data while preserving the information in the row."
   ]
  },
  {
   "cell_type": "code",
   "execution_count": 21,
   "metadata": {},
   "outputs": [],
   "source": [
    "df['contact_score'] = df['contact_score'].replace(np.nan, df['contact_score'].mean(axis = 0, skipna = True)) #replace NaN with column mean"
   ]
  },
  {
   "cell_type": "code",
   "execution_count": 22,
   "metadata": {},
   "outputs": [
    {
     "data": {
      "text/plain": [
       "0.0000        447\n",
       "1.3991         33\n",
       "2.0318         26\n",
       "86401.3300     25\n",
       "2.3959         25\n",
       "             ... \n",
       "59.8614         1\n",
       "635.8034        1\n",
       "132.9756        1\n",
       "86393.8750      1\n",
       "1.2108          1\n",
       "Name: lead_age_at_acquisition, Length: 23968, dtype: int64"
      ]
     },
     "execution_count": 22,
     "metadata": {},
     "output_type": "execute_result"
    }
   ],
   "source": [
    "#### Analysis of missing values in 'lead_age_at_acquisition'\n",
    "from collections import Counter\n",
    "df['lead_age_at_acquisition'].value_counts()"
   ]
  },
  {
   "cell_type": "markdown",
   "metadata": {},
   "source": [
    "* **lead_age_at_acquisition** is assumed to represent how long the lead took to be acquired.\n",
    "    * This may have some connection with the date/time listings in the dataset which have been converted into a usable format below.\n",
    "    * If further information were possible to obtain, imputating these missing values based on the timestamps of lead creation and match time may be a better alternative (see later section)\n",
    "    * Without this information however, missing values will be assumed as unknowns. Using an imputed mean would be a possible option here, however that would make assumptions about the acquisition having taken place. Instead it will be assumed that acquisition did not take place and were therefore at value 0, which was also the most common value in the attribute.\n",
    "    * This also makes an assumption that 0 represents **no acquisition** as 0 time in age would have little logical meaning."
   ]
  },
  {
   "cell_type": "code",
   "execution_count": 23,
   "metadata": {},
   "outputs": [],
   "source": [
    "df['lead_age_at_acquisition'] = df['lead_age_at_acquisition'].replace(np.nan, 0)"
   ]
  },
  {
   "cell_type": "markdown",
   "metadata": {},
   "source": [
    "#### Recheck Missing Values"
   ]
  },
  {
   "cell_type": "code",
   "execution_count": 24,
   "metadata": {},
   "outputs": [
    {
     "name": "stdout",
     "output_type": "stream",
     "text": [
      "match_id                   0\n",
      "lead_id                    0\n",
      "agent_id                   0\n",
      "lead_source_id             0\n",
      "lead_creation_date         0\n",
      "matched_at                 0\n",
      "dial_count                 0\n",
      "source_type                0\n",
      "state                      0\n",
      "gender                     0\n",
      "age                        0\n",
      "lead_cost                  0\n",
      "result                     0\n",
      "lead_age_at_acquisition    0\n",
      "prepaid_phone              0\n",
      "phone_in_service           0\n",
      "email_score                0\n",
      "email_valid                0\n",
      "phone_score                0\n",
      "contact_score              0\n",
      "block_score                0\n",
      "email_reason               0\n",
      "contact                    0\n",
      "quote                      0\n",
      "app                        0\n",
      "dtype: int64\n"
     ]
    }
   ],
   "source": [
    "print (df.isnull().sum())"
   ]
  },
  {
   "cell_type": "markdown",
   "metadata": {},
   "source": [
    "#### Date/Time Conversion to Timestamp"
   ]
  },
  {
   "cell_type": "code",
   "execution_count": 25,
   "metadata": {},
   "outputs": [],
   "source": [
    "import datetime as dt\n",
    "d = '1/19/2021 12:08' #sample date\n",
    "f = '%m/%d/%Y %H:%M' #format of dates\n",
    "date_string = pd.to_datetime(df['lead_creation_date'], format=f, errors='coerce') #converts to useable format\n",
    "timestamp = pd.DataFrame(date_string.values.astype(np.int64)) #creates timestamp for data\n",
    "df['lead_creation_date_ts'] = timestamp #adds timestamp version of dates back into data"
   ]
  },
  {
   "cell_type": "code",
   "execution_count": 26,
   "metadata": {},
   "outputs": [],
   "source": [
    "date_string = pd.to_datetime(df['matched_at'], format=f, errors='coerce') #converts to useable format\n",
    "timestamp = pd.DataFrame(date_string.values.astype(np.int64)) #creates timestamp for data\n",
    "df['matched_at_ts'] = timestamp #adds timestamp version of dates back into data"
   ]
  },
  {
   "cell_type": "code",
   "execution_count": 27,
   "metadata": {},
   "outputs": [],
   "source": [
    "df['time_to_match'] = df['matched_at_ts'] - df['lead_creation_date_ts'] #creates new attribute for difference between creation of lead and match date"
   ]
  },
  {
   "cell_type": "markdown",
   "metadata": {},
   "source": [
    "* Date/times were converted to timestamps for computation\n",
    "    * Possible usefulness for prediction by calculating the time (in seconds) from lead_creation_date to the matched_at date as this will give some indication of how long they took to be matched."
   ]
  },
  {
   "cell_type": "markdown",
   "metadata": {},
   "source": [
    "#### Target Variable Analysis\n",
    "* Based on the problem description, a \"sale\" is considered to take place at submission of an application\n",
    "    * Target category is therefore assumed to be at 'app' value = 1\n",
    "    * App category is heavily skewed toward value = 0\n",
    "        * Will need to utilize a sampling method to improve prediction performance on minority class"
   ]
  },
  {
   "cell_type": "code",
   "execution_count": 28,
   "metadata": {},
   "outputs": [
    {
     "data": {
      "text/plain": [
       "0    146613\n",
       "1      1043\n",
       "Name: app, dtype: int64"
      ]
     },
     "execution_count": 28,
     "metadata": {},
     "output_type": "execute_result"
    }
   ],
   "source": [
    "df['app'].value_counts()"
   ]
  },
  {
   "cell_type": "code",
   "execution_count": 83,
   "metadata": {},
   "outputs": [
    {
     "data": {
      "image/png": "[encoded data removed]",
      "text/plain": [
       "<Figure size 1008x720 with 2 Axes>"
      ]
     },
     "metadata": {
      "needs_background": "light"
     },
     "output_type": "display_data"
    }
   ],
   "source": [
    "import matplotlib.pyplot as plt\n",
    "import seaborn as sns\n",
    "c = df.corr()\n",
    "plt.figure(figsize=(14,10))\n",
    "sns.heatmap(c, annot=True)\n",
    "plt.show()"
   ]
  },
  {
   "cell_type": "markdown",
   "metadata": {},
   "source": [
    "* Based on the problem statement **Contact** and **Quote** were specifically identified as important features, supported by their correlations seen in the above matrix. These attributes deserve special investigations in relation to the target category."
   ]
  },
  {
   "cell_type": "code",
   "execution_count": 31,
   "metadata": {},
   "outputs": [
    {
     "data": {
      "text/plain": [
       "64    43553\n",
       "65    19441\n",
       "66     8962\n",
       "67     7533\n",
       "68     6940\n",
       "      ...  \n",
       "24        1\n",
       "44        1\n",
       "45        1\n",
       "32        1\n",
       "0         1\n",
       "Name: age, Length: 95, dtype: int64"
      ]
     },
     "execution_count": 31,
     "metadata": {},
     "output_type": "execute_result"
    }
   ],
   "source": [
    "df['age'].value_counts()"
   ]
  },
  {
   "cell_type": "code",
   "execution_count": 430,
   "metadata": {},
   "outputs": [
    {
     "data": {
      "text/plain": [
       "<AxesSubplot:xlabel='age', ylabel='count'>"
      ]
     },
     "execution_count": 430,
     "metadata": {},
     "output_type": "execute_result"
    },
    {
     "data": {
      "image/png": "[encoded data removed]",
      "text/plain": [
       "<Figure size 576x432 with 1 Axes>"
      ]
     },
     "metadata": {
      "needs_background": "light"
     },
     "output_type": "display_data"
    }
   ],
   "source": [
    "plt.figure(figsize=(8,6))\n",
    "sns.countplot(data=df,x='age',hue='app',order=df.age.value_counts().iloc[:10].index)"
   ]
  },
  {
   "cell_type": "markdown",
   "metadata": {},
   "source": [
    "* Investigating Age groups that submitted applications, we find that the top 10 ages were within the range 64 to 72.\n",
    "    * Age 64 in particular is the most prevalent age group in the data as well as those with highest rate of submitted applications."
   ]
  },
  {
   "cell_type": "code",
   "execution_count": 421,
   "metadata": {},
   "outputs": [
    {
     "data": {
      "text/plain": [
       "<AxesSubplot:xlabel='contact_score', ylabel='phone_score'>"
      ]
     },
     "execution_count": 421,
     "metadata": {},
     "output_type": "execute_result"
    },
    {
     "data": {
      "image/png": "[encoded data removed]",
      "text/plain": [
       "<Figure size 576x432 with 1 Axes>"
      ]
     },
     "metadata": {
      "needs_background": "light"
     },
     "output_type": "display_data"
    }
   ],
   "source": [
    "plt.figure(figsize=(8,6))\n",
    "sns.scatterplot(data=df,x='contact_score',y='phone_score',hue='app',palette='Set1')"
   ]
  },
  {
   "cell_type": "code",
   "execution_count": 424,
   "metadata": {},
   "outputs": [
    {
     "data": {
      "text/plain": [
       "<AxesSubplot:xlabel='contact_score', ylabel='email_score'>"
      ]
     },
     "execution_count": 424,
     "metadata": {},
     "output_type": "execute_result"
    },
    {
     "data": {
      "image/png": "[encoded data removed]",
      "text/plain": [
       "<Figure size 576x432 with 1 Axes>"
      ]
     },
     "metadata": {
      "needs_background": "light"
     },
     "output_type": "display_data"
    }
   ],
   "source": [
    "plt.figure(figsize=(8,6))\n",
    "sns.scatterplot(data=df,x='contact_score',y='email_score',hue='app',palette='Set2')"
   ]
  },
  {
   "cell_type": "markdown",
   "metadata": {},
   "source": [
    "* Investigating Contact, Phone and Email Scores displays a linear relationship as expected. \n",
    "* Application submission appears to be concentrated at higher levels as would also be expected, though not in any apparent patterns.\n",
    "    * Some scores for submitted applications vary between contact and other types scoring."
   ]
  },
  {
   "cell_type": "code",
   "execution_count": 415,
   "metadata": {},
   "outputs": [
    {
     "data": {
      "text/plain": [
       "<AxesSubplot:xlabel='quote', ylabel='count'>"
      ]
     },
     "execution_count": 415,
     "metadata": {},
     "output_type": "execute_result"
    },
    {
     "data": {
      "image/png": "[encoded data removed]",
      "text/plain": [
       "<Figure size 360x360 with 1 Axes>"
      ]
     },
     "metadata": {
      "needs_background": "light"
     },
     "output_type": "display_data"
    }
   ],
   "source": [
    "plt.figure(figsize=(5,5))\n",
    "sns.countplot(data=df,x='quote',hue='app',palette='gist_rainbow',order=df.quote.value_counts().iloc[1:2].index)"
   ]
  },
  {
   "cell_type": "code",
   "execution_count": 416,
   "metadata": {},
   "outputs": [
    {
     "data": {
      "text/plain": [
       "<AxesSubplot:xlabel='contact', ylabel='count'>"
      ]
     },
     "execution_count": 416,
     "metadata": {},
     "output_type": "execute_result"
    },
    {
     "data": {
      "image/png": "[encoded data removed]",
      "text/plain": [
       "<Figure size 360x360 with 1 Axes>"
      ]
     },
     "metadata": {
      "needs_background": "light"
     },
     "output_type": "display_data"
    }
   ],
   "source": [
    "plt.figure(figsize=(5,5))\n",
    "sns.countplot(data=df,x='contact',hue='app',palette='Set1',order=df.contact.value_counts().iloc[1:2].index)"
   ]
  },
  {
   "cell_type": "markdown",
   "metadata": {},
   "source": [
    "* Above we see customers that were identified as positive for **quote** or **contact** categories. \n",
    "    * These are additionally separated by which customers did or did not submit an application.\n",
    "    * In comparison we see customers were far more likely to submit an application based on receiving a quote then by contact alone. \n",
    "        * This makes sense as customers are offered quotes based on expressed interest after contact, so they are likely to be highly related."
   ]
  },
  {
   "cell_type": "markdown",
   "metadata": {},
   "source": [
    "<a id=\"3\"></a>\n",
    "## Modeling Preparations"
   ]
  },
  {
   "cell_type": "code",
   "execution_count": 32,
   "metadata": {},
   "outputs": [
    {
     "data": {
      "text/html": [
       "<div>\n",
       "<style scoped>\n",
       "    .dataframe tbody tr th:only-of-type {\n",
       "        vertical-align: middle;\n",
       "    }\n",
       "\n",
       "    .dataframe tbody tr th {\n",
       "        vertical-align: top;\n",
       "    }\n",
       "\n",
       "    .dataframe thead th {\n",
       "        text-align: right;\n",
       "    }\n",
       "</style>\n",
       "<table border=\"1\" class=\"dataframe\">\n",
       "  <thead>\n",
       "    <tr style=\"text-align: right;\">\n",
       "      <th></th>\n",
       "      <th>dial_count</th>\n",
       "      <th>source_type</th>\n",
       "      <th>state</th>\n",
       "      <th>gender</th>\n",
       "      <th>age</th>\n",
       "      <th>lead_cost</th>\n",
       "      <th>result</th>\n",
       "      <th>lead_age_at_acquisition</th>\n",
       "      <th>prepaid_phone</th>\n",
       "      <th>phone_in_service</th>\n",
       "      <th>email_score</th>\n",
       "      <th>email_valid</th>\n",
       "      <th>phone_score</th>\n",
       "      <th>contact_score</th>\n",
       "      <th>block_score</th>\n",
       "      <th>email_reason</th>\n",
       "      <th>contact</th>\n",
       "      <th>quote</th>\n",
       "      <th>app</th>\n",
       "      <th>lead_creation_date_ts</th>\n",
       "      <th>matched_at_ts</th>\n",
       "      <th>time_to_match</th>\n",
       "    </tr>\n",
       "  </thead>\n",
       "  <tbody>\n",
       "    <tr>\n",
       "      <th>0</th>\n",
       "      <td>1</td>\n",
       "      <td>DELIVERY</td>\n",
       "      <td>AR</td>\n",
       "      <td>Female</td>\n",
       "      <td>65</td>\n",
       "      <td>4.22</td>\n",
       "      <td>2.0</td>\n",
       "      <td>57.7072</td>\n",
       "      <td>Y</td>\n",
       "      <td>I2</td>\n",
       "      <td>10.0</td>\n",
       "      <td>1.0</td>\n",
       "      <td>62</td>\n",
       "      <td>36.0</td>\n",
       "      <td>47.948863</td>\n",
       "      <td>0.0</td>\n",
       "      <td>0</td>\n",
       "      <td>0</td>\n",
       "      <td>0</td>\n",
       "      <td>1611058080000000000</td>\n",
       "      <td>1611060180000000000</td>\n",
       "      <td>2100000000000</td>\n",
       "    </tr>\n",
       "    <tr>\n",
       "      <th>1</th>\n",
       "      <td>2</td>\n",
       "      <td>FORM</td>\n",
       "      <td>MS</td>\n",
       "      <td>No Gender</td>\n",
       "      <td>66</td>\n",
       "      <td>13.79</td>\n",
       "      <td>0.0</td>\n",
       "      <td>0.0000</td>\n",
       "      <td>N</td>\n",
       "      <td>A7</td>\n",
       "      <td>95.0</td>\n",
       "      <td>1.0</td>\n",
       "      <td>98</td>\n",
       "      <td>96.5</td>\n",
       "      <td>73.383948</td>\n",
       "      <td>0.0</td>\n",
       "      <td>0</td>\n",
       "      <td>0</td>\n",
       "      <td>0</td>\n",
       "      <td>1611348060000000000</td>\n",
       "      <td>1611590580000000000</td>\n",
       "      <td>242520000000000</td>\n",
       "    </tr>\n",
       "    <tr>\n",
       "      <th>2</th>\n",
       "      <td>3</td>\n",
       "      <td>DELIVERY</td>\n",
       "      <td>WI</td>\n",
       "      <td>Male</td>\n",
       "      <td>74</td>\n",
       "      <td>65.00</td>\n",
       "      <td>2.0</td>\n",
       "      <td>351.5950</td>\n",
       "      <td>Y</td>\n",
       "      <td>A7</td>\n",
       "      <td>85.0</td>\n",
       "      <td>1.0</td>\n",
       "      <td>98</td>\n",
       "      <td>91.5</td>\n",
       "      <td>58.877858</td>\n",
       "      <td>0.0</td>\n",
       "      <td>0</td>\n",
       "      <td>0</td>\n",
       "      <td>0</td>\n",
       "      <td>1610909280000000000</td>\n",
       "      <td>1610961900000000000</td>\n",
       "      <td>52620000000000</td>\n",
       "    </tr>\n",
       "    <tr>\n",
       "      <th>3</th>\n",
       "      <td>4</td>\n",
       "      <td>DELIVERY</td>\n",
       "      <td>OK</td>\n",
       "      <td>Female</td>\n",
       "      <td>80</td>\n",
       "      <td>1.76</td>\n",
       "      <td>2.0</td>\n",
       "      <td>4.6066</td>\n",
       "      <td>N</td>\n",
       "      <td>A7</td>\n",
       "      <td>85.0</td>\n",
       "      <td>1.0</td>\n",
       "      <td>99</td>\n",
       "      <td>92.0</td>\n",
       "      <td>55.408187</td>\n",
       "      <td>0.0</td>\n",
       "      <td>0</td>\n",
       "      <td>0</td>\n",
       "      <td>0</td>\n",
       "      <td>1611168780000000000</td>\n",
       "      <td>1611227820000000000</td>\n",
       "      <td>59040000000000</td>\n",
       "    </tr>\n",
       "    <tr>\n",
       "      <th>4</th>\n",
       "      <td>0</td>\n",
       "      <td>FORM</td>\n",
       "      <td>WY</td>\n",
       "      <td>No Gender</td>\n",
       "      <td>78</td>\n",
       "      <td>48.07</td>\n",
       "      <td>0.0</td>\n",
       "      <td>0.0000</td>\n",
       "      <td>N</td>\n",
       "      <td>I1</td>\n",
       "      <td>85.0</td>\n",
       "      <td>1.0</td>\n",
       "      <td>50</td>\n",
       "      <td>67.5</td>\n",
       "      <td>77.281536</td>\n",
       "      <td>0.0</td>\n",
       "      <td>0</td>\n",
       "      <td>0</td>\n",
       "      <td>0</td>\n",
       "      <td>1611165420000000000</td>\n",
       "      <td>1611165420000000000</td>\n",
       "      <td>0</td>\n",
       "    </tr>\n",
       "  </tbody>\n",
       "</table>\n",
       "</div>"
      ],
      "text/plain": [
       "   dial_count source_type state     gender  age  lead_cost  result  \\\n",
       "0           1    DELIVERY    AR     Female   65       4.22     2.0   \n",
       "1           2        FORM    MS  No Gender   66      13.79     0.0   \n",
       "2           3    DELIVERY    WI       Male   74      65.00     2.0   \n",
       "3           4    DELIVERY    OK     Female   80       1.76     2.0   \n",
       "4           0        FORM    WY  No Gender   78      48.07     0.0   \n",
       "\n",
       "   lead_age_at_acquisition prepaid_phone phone_in_service  email_score  \\\n",
       "0                  57.7072             Y               I2         10.0   \n",
       "1                   0.0000             N               A7         95.0   \n",
       "2                 351.5950             Y               A7         85.0   \n",
       "3                   4.6066             N               A7         85.0   \n",
       "4                   0.0000             N               I1         85.0   \n",
       "\n",
       "   email_valid  phone_score  contact_score  block_score  email_reason  \\\n",
       "0          1.0           62           36.0    47.948863           0.0   \n",
       "1          1.0           98           96.5    73.383948           0.0   \n",
       "2          1.0           98           91.5    58.877858           0.0   \n",
       "3          1.0           99           92.0    55.408187           0.0   \n",
       "4          1.0           50           67.5    77.281536           0.0   \n",
       "\n",
       "   contact  quote  app  lead_creation_date_ts        matched_at_ts  \\\n",
       "0        0      0    0    1611058080000000000  1611060180000000000   \n",
       "1        0      0    0    1611348060000000000  1611590580000000000   \n",
       "2        0      0    0    1610909280000000000  1610961900000000000   \n",
       "3        0      0    0    1611168780000000000  1611227820000000000   \n",
       "4        0      0    0    1611165420000000000  1611165420000000000   \n",
       "\n",
       "     time_to_match  \n",
       "0    2100000000000  \n",
       "1  242520000000000  \n",
       "2   52620000000000  \n",
       "3   59040000000000  \n",
       "4                0  "
      ]
     },
     "execution_count": 32,
     "metadata": {},
     "output_type": "execute_result"
    }
   ],
   "source": [
    "#Removal of ID attributes (assuming these to be unimportant for modeling purposes) and date columns that were converted to timestamps\n",
    "df = df.drop(['match_id','lead_id','agent_id','lead_source_id','lead_creation_date','matched_at'],axis=1)\n",
    "df.head()"
   ]
  },
  {
   "cell_type": "markdown",
   "metadata": {},
   "source": [
    "#### One Hot Encoding\n",
    "\n",
    "* Non-numeric categories will need to be encoded for use with modeling"
   ]
  },
  {
   "cell_type": "code",
   "execution_count": 55,
   "metadata": {},
   "outputs": [],
   "source": [
    "from sklearn.preprocessing import OneHotEncoder\n",
    "encoded_df = pd.DataFrame()\n",
    "encoded_df = encoded_df.append(pd.get_dummies(df))"
   ]
  },
  {
   "cell_type": "code",
   "execution_count": 34,
   "metadata": {},
   "outputs": [
    {
     "data": {
      "text/html": [
       "<div>\n",
       "<style scoped>\n",
       "    .dataframe tbody tr th:only-of-type {\n",
       "        vertical-align: middle;\n",
       "    }\n",
       "\n",
       "    .dataframe tbody tr th {\n",
       "        vertical-align: top;\n",
       "    }\n",
       "\n",
       "    .dataframe thead th {\n",
       "        text-align: right;\n",
       "    }\n",
       "</style>\n",
       "<table border=\"1\" class=\"dataframe\">\n",
       "  <thead>\n",
       "    <tr style=\"text-align: right;\">\n",
       "      <th></th>\n",
       "      <th>dial_count</th>\n",
       "      <th>age</th>\n",
       "      <th>lead_cost</th>\n",
       "      <th>result</th>\n",
       "      <th>lead_age_at_acquisition</th>\n",
       "      <th>email_score</th>\n",
       "      <th>email_valid</th>\n",
       "      <th>phone_score</th>\n",
       "      <th>contact_score</th>\n",
       "      <th>block_score</th>\n",
       "      <th>email_reason</th>\n",
       "      <th>contact</th>\n",
       "      <th>quote</th>\n",
       "      <th>app</th>\n",
       "      <th>lead_creation_date_ts</th>\n",
       "      <th>matched_at_ts</th>\n",
       "      <th>time_to_match</th>\n",
       "      <th>source_type_DELIVERY</th>\n",
       "      <th>source_type_FORM</th>\n",
       "      <th>state_AL</th>\n",
       "      <th>state_AR</th>\n",
       "      <th>state_AZ</th>\n",
       "      <th>state_CO</th>\n",
       "      <th>state_DE</th>\n",
       "      <th>state_GA</th>\n",
       "      <th>state_IA</th>\n",
       "      <th>state_ID</th>\n",
       "      <th>state_IL</th>\n",
       "      <th>state_IN</th>\n",
       "      <th>state_KS</th>\n",
       "      <th>state_KY</th>\n",
       "      <th>state_LA</th>\n",
       "      <th>state_MD</th>\n",
       "      <th>state_MI</th>\n",
       "      <th>state_MO</th>\n",
       "      <th>state_MS</th>\n",
       "      <th>state_MT</th>\n",
       "      <th>state_NC</th>\n",
       "      <th>state_ND</th>\n",
       "      <th>state_NE</th>\n",
       "      <th>state_NH</th>\n",
       "      <th>state_NJ</th>\n",
       "      <th>state_NV</th>\n",
       "      <th>state_OH</th>\n",
       "      <th>state_OK</th>\n",
       "      <th>state_OR</th>\n",
       "      <th>state_PA</th>\n",
       "      <th>state_SC</th>\n",
       "      <th>state_SD</th>\n",
       "      <th>state_TN</th>\n",
       "      <th>state_TX</th>\n",
       "      <th>state_UT</th>\n",
       "      <th>state_VA</th>\n",
       "      <th>state_WI</th>\n",
       "      <th>state_WV</th>\n",
       "      <th>state_WY</th>\n",
       "      <th>gender_Female</th>\n",
       "      <th>gender_Male</th>\n",
       "      <th>gender_No Gender</th>\n",
       "      <th>prepaid_phone_N</th>\n",
       "      <th>prepaid_phone_Y</th>\n",
       "      <th>phone_in_service_A1</th>\n",
       "      <th>phone_in_service_A2</th>\n",
       "      <th>phone_in_service_A3</th>\n",
       "      <th>phone_in_service_A4</th>\n",
       "      <th>phone_in_service_A5</th>\n",
       "      <th>phone_in_service_A6</th>\n",
       "      <th>phone_in_service_A7</th>\n",
       "      <th>phone_in_service_I1</th>\n",
       "      <th>phone_in_service_I2</th>\n",
       "      <th>phone_in_service_I3</th>\n",
       "      <th>phone_in_service_I4</th>\n",
       "      <th>phone_in_service_I5</th>\n",
       "      <th>phone_in_service_I6</th>\n",
       "      <th>phone_in_service_U</th>\n",
       "    </tr>\n",
       "  </thead>\n",
       "  <tbody>\n",
       "    <tr>\n",
       "      <th>0</th>\n",
       "      <td>1</td>\n",
       "      <td>65</td>\n",
       "      <td>4.22</td>\n",
       "      <td>2.0</td>\n",
       "      <td>57.7072</td>\n",
       "      <td>10.0</td>\n",
       "      <td>1.0</td>\n",
       "      <td>62</td>\n",
       "      <td>36.0</td>\n",
       "      <td>47.948863</td>\n",
       "      <td>0.0</td>\n",
       "      <td>0</td>\n",
       "      <td>0</td>\n",
       "      <td>0</td>\n",
       "      <td>1611058080000000000</td>\n",
       "      <td>1611060180000000000</td>\n",
       "      <td>2100000000000</td>\n",
       "      <td>1</td>\n",
       "      <td>0</td>\n",
       "      <td>0</td>\n",
       "      <td>1</td>\n",
       "      <td>0</td>\n",
       "      <td>0</td>\n",
       "      <td>0</td>\n",
       "      <td>0</td>\n",
       "      <td>0</td>\n",
       "      <td>0</td>\n",
       "      <td>0</td>\n",
       "      <td>0</td>\n",
       "      <td>0</td>\n",
       "      <td>0</td>\n",
       "      <td>0</td>\n",
       "      <td>0</td>\n",
       "      <td>0</td>\n",
       "      <td>0</td>\n",
       "      <td>0</td>\n",
       "      <td>0</td>\n",
       "      <td>0</td>\n",
       "      <td>0</td>\n",
       "      <td>0</td>\n",
       "      <td>0</td>\n",
       "      <td>0</td>\n",
       "      <td>0</td>\n",
       "      <td>0</td>\n",
       "      <td>0</td>\n",
       "      <td>0</td>\n",
       "      <td>0</td>\n",
       "      <td>0</td>\n",
       "      <td>0</td>\n",
       "      <td>0</td>\n",
       "      <td>0</td>\n",
       "      <td>0</td>\n",
       "      <td>0</td>\n",
       "      <td>0</td>\n",
       "      <td>0</td>\n",
       "      <td>0</td>\n",
       "      <td>1</td>\n",
       "      <td>0</td>\n",
       "      <td>0</td>\n",
       "      <td>0</td>\n",
       "      <td>1</td>\n",
       "      <td>0</td>\n",
       "      <td>0</td>\n",
       "      <td>0</td>\n",
       "      <td>0</td>\n",
       "      <td>0</td>\n",
       "      <td>0</td>\n",
       "      <td>0</td>\n",
       "      <td>0</td>\n",
       "      <td>1</td>\n",
       "      <td>0</td>\n",
       "      <td>0</td>\n",
       "      <td>0</td>\n",
       "      <td>0</td>\n",
       "      <td>0</td>\n",
       "    </tr>\n",
       "    <tr>\n",
       "      <th>1</th>\n",
       "      <td>2</td>\n",
       "      <td>66</td>\n",
       "      <td>13.79</td>\n",
       "      <td>0.0</td>\n",
       "      <td>0.0000</td>\n",
       "      <td>95.0</td>\n",
       "      <td>1.0</td>\n",
       "      <td>98</td>\n",
       "      <td>96.5</td>\n",
       "      <td>73.383948</td>\n",
       "      <td>0.0</td>\n",
       "      <td>0</td>\n",
       "      <td>0</td>\n",
       "      <td>0</td>\n",
       "      <td>1611348060000000000</td>\n",
       "      <td>1611590580000000000</td>\n",
       "      <td>242520000000000</td>\n",
       "      <td>0</td>\n",
       "      <td>1</td>\n",
       "      <td>0</td>\n",
       "      <td>0</td>\n",
       "      <td>0</td>\n",
       "      <td>0</td>\n",
       "      <td>0</td>\n",
       "      <td>0</td>\n",
       "      <td>0</td>\n",
       "      <td>0</td>\n",
       "      <td>0</td>\n",
       "      <td>0</td>\n",
       "      <td>0</td>\n",
       "      <td>0</td>\n",
       "      <td>0</td>\n",
       "      <td>0</td>\n",
       "      <td>0</td>\n",
       "      <td>0</td>\n",
       "      <td>1</td>\n",
       "      <td>0</td>\n",
       "      <td>0</td>\n",
       "      <td>0</td>\n",
       "      <td>0</td>\n",
       "      <td>0</td>\n",
       "      <td>0</td>\n",
       "      <td>0</td>\n",
       "      <td>0</td>\n",
       "      <td>0</td>\n",
       "      <td>0</td>\n",
       "      <td>0</td>\n",
       "      <td>0</td>\n",
       "      <td>0</td>\n",
       "      <td>0</td>\n",
       "      <td>0</td>\n",
       "      <td>0</td>\n",
       "      <td>0</td>\n",
       "      <td>0</td>\n",
       "      <td>0</td>\n",
       "      <td>0</td>\n",
       "      <td>0</td>\n",
       "      <td>0</td>\n",
       "      <td>1</td>\n",
       "      <td>1</td>\n",
       "      <td>0</td>\n",
       "      <td>0</td>\n",
       "      <td>0</td>\n",
       "      <td>0</td>\n",
       "      <td>0</td>\n",
       "      <td>0</td>\n",
       "      <td>0</td>\n",
       "      <td>1</td>\n",
       "      <td>0</td>\n",
       "      <td>0</td>\n",
       "      <td>0</td>\n",
       "      <td>0</td>\n",
       "      <td>0</td>\n",
       "      <td>0</td>\n",
       "      <td>0</td>\n",
       "    </tr>\n",
       "    <tr>\n",
       "      <th>2</th>\n",
       "      <td>3</td>\n",
       "      <td>74</td>\n",
       "      <td>65.00</td>\n",
       "      <td>2.0</td>\n",
       "      <td>351.5950</td>\n",
       "      <td>85.0</td>\n",
       "      <td>1.0</td>\n",
       "      <td>98</td>\n",
       "      <td>91.5</td>\n",
       "      <td>58.877858</td>\n",
       "      <td>0.0</td>\n",
       "      <td>0</td>\n",
       "      <td>0</td>\n",
       "      <td>0</td>\n",
       "      <td>1610909280000000000</td>\n",
       "      <td>1610961900000000000</td>\n",
       "      <td>52620000000000</td>\n",
       "      <td>1</td>\n",
       "      <td>0</td>\n",
       "      <td>0</td>\n",
       "      <td>0</td>\n",
       "      <td>0</td>\n",
       "      <td>0</td>\n",
       "      <td>0</td>\n",
       "      <td>0</td>\n",
       "      <td>0</td>\n",
       "      <td>0</td>\n",
       "      <td>0</td>\n",
       "      <td>0</td>\n",
       "      <td>0</td>\n",
       "      <td>0</td>\n",
       "      <td>0</td>\n",
       "      <td>0</td>\n",
       "      <td>0</td>\n",
       "      <td>0</td>\n",
       "      <td>0</td>\n",
       "      <td>0</td>\n",
       "      <td>0</td>\n",
       "      <td>0</td>\n",
       "      <td>0</td>\n",
       "      <td>0</td>\n",
       "      <td>0</td>\n",
       "      <td>0</td>\n",
       "      <td>0</td>\n",
       "      <td>0</td>\n",
       "      <td>0</td>\n",
       "      <td>0</td>\n",
       "      <td>0</td>\n",
       "      <td>0</td>\n",
       "      <td>0</td>\n",
       "      <td>0</td>\n",
       "      <td>0</td>\n",
       "      <td>0</td>\n",
       "      <td>1</td>\n",
       "      <td>0</td>\n",
       "      <td>0</td>\n",
       "      <td>0</td>\n",
       "      <td>1</td>\n",
       "      <td>0</td>\n",
       "      <td>0</td>\n",
       "      <td>1</td>\n",
       "      <td>0</td>\n",
       "      <td>0</td>\n",
       "      <td>0</td>\n",
       "      <td>0</td>\n",
       "      <td>0</td>\n",
       "      <td>0</td>\n",
       "      <td>1</td>\n",
       "      <td>0</td>\n",
       "      <td>0</td>\n",
       "      <td>0</td>\n",
       "      <td>0</td>\n",
       "      <td>0</td>\n",
       "      <td>0</td>\n",
       "      <td>0</td>\n",
       "    </tr>\n",
       "    <tr>\n",
       "      <th>3</th>\n",
       "      <td>4</td>\n",
       "      <td>80</td>\n",
       "      <td>1.76</td>\n",
       "      <td>2.0</td>\n",
       "      <td>4.6066</td>\n",
       "      <td>85.0</td>\n",
       "      <td>1.0</td>\n",
       "      <td>99</td>\n",
       "      <td>92.0</td>\n",
       "      <td>55.408187</td>\n",
       "      <td>0.0</td>\n",
       "      <td>0</td>\n",
       "      <td>0</td>\n",
       "      <td>0</td>\n",
       "      <td>1611168780000000000</td>\n",
       "      <td>1611227820000000000</td>\n",
       "      <td>59040000000000</td>\n",
       "      <td>1</td>\n",
       "      <td>0</td>\n",
       "      <td>0</td>\n",
       "      <td>0</td>\n",
       "      <td>0</td>\n",
       "      <td>0</td>\n",
       "      <td>0</td>\n",
       "      <td>0</td>\n",
       "      <td>0</td>\n",
       "      <td>0</td>\n",
       "      <td>0</td>\n",
       "      <td>0</td>\n",
       "      <td>0</td>\n",
       "      <td>0</td>\n",
       "      <td>0</td>\n",
       "      <td>0</td>\n",
       "      <td>0</td>\n",
       "      <td>0</td>\n",
       "      <td>0</td>\n",
       "      <td>0</td>\n",
       "      <td>0</td>\n",
       "      <td>0</td>\n",
       "      <td>0</td>\n",
       "      <td>0</td>\n",
       "      <td>0</td>\n",
       "      <td>0</td>\n",
       "      <td>0</td>\n",
       "      <td>1</td>\n",
       "      <td>0</td>\n",
       "      <td>0</td>\n",
       "      <td>0</td>\n",
       "      <td>0</td>\n",
       "      <td>0</td>\n",
       "      <td>0</td>\n",
       "      <td>0</td>\n",
       "      <td>0</td>\n",
       "      <td>0</td>\n",
       "      <td>0</td>\n",
       "      <td>0</td>\n",
       "      <td>1</td>\n",
       "      <td>0</td>\n",
       "      <td>0</td>\n",
       "      <td>1</td>\n",
       "      <td>0</td>\n",
       "      <td>0</td>\n",
       "      <td>0</td>\n",
       "      <td>0</td>\n",
       "      <td>0</td>\n",
       "      <td>0</td>\n",
       "      <td>0</td>\n",
       "      <td>1</td>\n",
       "      <td>0</td>\n",
       "      <td>0</td>\n",
       "      <td>0</td>\n",
       "      <td>0</td>\n",
       "      <td>0</td>\n",
       "      <td>0</td>\n",
       "      <td>0</td>\n",
       "    </tr>\n",
       "    <tr>\n",
       "      <th>4</th>\n",
       "      <td>0</td>\n",
       "      <td>78</td>\n",
       "      <td>48.07</td>\n",
       "      <td>0.0</td>\n",
       "      <td>0.0000</td>\n",
       "      <td>85.0</td>\n",
       "      <td>1.0</td>\n",
       "      <td>50</td>\n",
       "      <td>67.5</td>\n",
       "      <td>77.281536</td>\n",
       "      <td>0.0</td>\n",
       "      <td>0</td>\n",
       "      <td>0</td>\n",
       "      <td>0</td>\n",
       "      <td>1611165420000000000</td>\n",
       "      <td>1611165420000000000</td>\n",
       "      <td>0</td>\n",
       "      <td>0</td>\n",
       "      <td>1</td>\n",
       "      <td>0</td>\n",
       "      <td>0</td>\n",
       "      <td>0</td>\n",
       "      <td>0</td>\n",
       "      <td>0</td>\n",
       "      <td>0</td>\n",
       "      <td>0</td>\n",
       "      <td>0</td>\n",
       "      <td>0</td>\n",
       "      <td>0</td>\n",
       "      <td>0</td>\n",
       "      <td>0</td>\n",
       "      <td>0</td>\n",
       "      <td>0</td>\n",
       "      <td>0</td>\n",
       "      <td>0</td>\n",
       "      <td>0</td>\n",
       "      <td>0</td>\n",
       "      <td>0</td>\n",
       "      <td>0</td>\n",
       "      <td>0</td>\n",
       "      <td>0</td>\n",
       "      <td>0</td>\n",
       "      <td>0</td>\n",
       "      <td>0</td>\n",
       "      <td>0</td>\n",
       "      <td>0</td>\n",
       "      <td>0</td>\n",
       "      <td>0</td>\n",
       "      <td>0</td>\n",
       "      <td>0</td>\n",
       "      <td>0</td>\n",
       "      <td>0</td>\n",
       "      <td>0</td>\n",
       "      <td>0</td>\n",
       "      <td>0</td>\n",
       "      <td>1</td>\n",
       "      <td>0</td>\n",
       "      <td>0</td>\n",
       "      <td>1</td>\n",
       "      <td>1</td>\n",
       "      <td>0</td>\n",
       "      <td>0</td>\n",
       "      <td>0</td>\n",
       "      <td>0</td>\n",
       "      <td>0</td>\n",
       "      <td>0</td>\n",
       "      <td>0</td>\n",
       "      <td>0</td>\n",
       "      <td>1</td>\n",
       "      <td>0</td>\n",
       "      <td>0</td>\n",
       "      <td>0</td>\n",
       "      <td>0</td>\n",
       "      <td>0</td>\n",
       "      <td>0</td>\n",
       "    </tr>\n",
       "  </tbody>\n",
       "</table>\n",
       "</div>"
      ],
      "text/plain": [
       "   dial_count  age  lead_cost  result  lead_age_at_acquisition  email_score  \\\n",
       "0           1   65       4.22     2.0                  57.7072         10.0   \n",
       "1           2   66      13.79     0.0                   0.0000         95.0   \n",
       "2           3   74      65.00     2.0                 351.5950         85.0   \n",
       "3           4   80       1.76     2.0                   4.6066         85.0   \n",
       "4           0   78      48.07     0.0                   0.0000         85.0   \n",
       "\n",
       "   email_valid  phone_score  contact_score  block_score  email_reason  \\\n",
       "0          1.0           62           36.0    47.948863           0.0   \n",
       "1          1.0           98           96.5    73.383948           0.0   \n",
       "2          1.0           98           91.5    58.877858           0.0   \n",
       "3          1.0           99           92.0    55.408187           0.0   \n",
       "4          1.0           50           67.5    77.281536           0.0   \n",
       "\n",
       "   contact  quote  app  lead_creation_date_ts        matched_at_ts  \\\n",
       "0        0      0    0    1611058080000000000  1611060180000000000   \n",
       "1        0      0    0    1611348060000000000  1611590580000000000   \n",
       "2        0      0    0    1610909280000000000  1610961900000000000   \n",
       "3        0      0    0    1611168780000000000  1611227820000000000   \n",
       "4        0      0    0    1611165420000000000  1611165420000000000   \n",
       "\n",
       "     time_to_match  source_type_DELIVERY  source_type_FORM  state_AL  \\\n",
       "0    2100000000000                     1                 0         0   \n",
       "1  242520000000000                     0                 1         0   \n",
       "2   52620000000000                     1                 0         0   \n",
       "3   59040000000000                     1                 0         0   \n",
       "4                0                     0                 1         0   \n",
       "\n",
       "   state_AR  state_AZ  state_CO  state_DE  state_GA  state_IA  state_ID  \\\n",
       "0         1         0         0         0         0         0         0   \n",
       "1         0         0         0         0         0         0         0   \n",
       "2         0         0         0         0         0         0         0   \n",
       "3         0         0         0         0         0         0         0   \n",
       "4         0         0         0         0         0         0         0   \n",
       "\n",
       "   state_IL  state_IN  state_KS  state_KY  state_LA  state_MD  state_MI  \\\n",
       "0         0         0         0         0         0         0         0   \n",
       "1         0         0         0         0         0         0         0   \n",
       "2         0         0         0         0         0         0         0   \n",
       "3         0         0         0         0         0         0         0   \n",
       "4         0         0         0         0         0         0         0   \n",
       "\n",
       "   state_MO  state_MS  state_MT  state_NC  state_ND  state_NE  state_NH  \\\n",
       "0         0         0         0         0         0         0         0   \n",
       "1         0         1         0         0         0         0         0   \n",
       "2         0         0         0         0         0         0         0   \n",
       "3         0         0         0         0         0         0         0   \n",
       "4         0         0         0         0         0         0         0   \n",
       "\n",
       "   state_NJ  state_NV  state_OH  state_OK  state_OR  state_PA  state_SC  \\\n",
       "0         0         0         0         0         0         0         0   \n",
       "1         0         0         0         0         0         0         0   \n",
       "2         0         0         0         0         0         0         0   \n",
       "3         0         0         0         1         0         0         0   \n",
       "4         0         0         0         0         0         0         0   \n",
       "\n",
       "   state_SD  state_TN  state_TX  state_UT  state_VA  state_WI  state_WV  \\\n",
       "0         0         0         0         0         0         0         0   \n",
       "1         0         0         0         0         0         0         0   \n",
       "2         0         0         0         0         0         1         0   \n",
       "3         0         0         0         0         0         0         0   \n",
       "4         0         0         0         0         0         0         0   \n",
       "\n",
       "   state_WY  gender_Female  gender_Male  gender_No Gender  prepaid_phone_N  \\\n",
       "0         0              1            0                 0                0   \n",
       "1         0              0            0                 1                1   \n",
       "2         0              0            1                 0                0   \n",
       "3         0              1            0                 0                1   \n",
       "4         1              0            0                 1                1   \n",
       "\n",
       "   prepaid_phone_Y  phone_in_service_A1  phone_in_service_A2  \\\n",
       "0                1                    0                    0   \n",
       "1                0                    0                    0   \n",
       "2                1                    0                    0   \n",
       "3                0                    0                    0   \n",
       "4                0                    0                    0   \n",
       "\n",
       "   phone_in_service_A3  phone_in_service_A4  phone_in_service_A5  \\\n",
       "0                    0                    0                    0   \n",
       "1                    0                    0                    0   \n",
       "2                    0                    0                    0   \n",
       "3                    0                    0                    0   \n",
       "4                    0                    0                    0   \n",
       "\n",
       "   phone_in_service_A6  phone_in_service_A7  phone_in_service_I1  \\\n",
       "0                    0                    0                    0   \n",
       "1                    0                    1                    0   \n",
       "2                    0                    1                    0   \n",
       "3                    0                    1                    0   \n",
       "4                    0                    0                    1   \n",
       "\n",
       "   phone_in_service_I2  phone_in_service_I3  phone_in_service_I4  \\\n",
       "0                    1                    0                    0   \n",
       "1                    0                    0                    0   \n",
       "2                    0                    0                    0   \n",
       "3                    0                    0                    0   \n",
       "4                    0                    0                    0   \n",
       "\n",
       "   phone_in_service_I5  phone_in_service_I6  phone_in_service_U  \n",
       "0                    0                    0                   0  \n",
       "1                    0                    0                   0  \n",
       "2                    0                    0                   0  \n",
       "3                    0                    0                   0  \n",
       "4                    0                    0                   0  "
      ]
     },
     "execution_count": 34,
     "metadata": {},
     "output_type": "execute_result"
    }
   ],
   "source": [
    "encoded_df.head()"
   ]
  },
  {
   "cell_type": "markdown",
   "metadata": {},
   "source": [
    "#### Data Normalization\n",
    "* Training data will be normalized to reduce differences in magnitude of values"
   ]
  },
  {
   "cell_type": "code",
   "execution_count": 35,
   "metadata": {},
   "outputs": [],
   "source": [
    "from sklearn import metrics\n",
    "from sklearn.model_selection import train_test_split\n",
    "from sklearn.model_selection import ShuffleSplit\n",
    "\n",
    "# Assigning features and target variable\n",
    "X = encoded_df.drop(columns=['app'])\n",
    "y = encoded_df.loc[:,'app']\n",
    "\n",
    "X_train, X_test, y_train, y_test = train_test_split(X, y, test_size=0.2, random_state=123)\n",
    "\n",
    "from sklearn.preprocessing import MinMaxScaler\n",
    "scaler = MinMaxScaler()\n",
    "\n",
    "# fit on the training dataset\n",
    "scaler.fit(X_train)\n",
    "\n",
    "# scale the training dataset\n",
    "X_train = scaler.transform(X_train)\n",
    "\n",
    "# scale the test dataset\n",
    "X_test = scaler.transform(X_test)"
   ]
  },
  {
   "cell_type": "code",
   "execution_count": 36,
   "metadata": {},
   "outputs": [
    {
     "data": {
      "text/plain": [
       "0    117288\n",
       "1       836\n",
       "Name: app, dtype: int64"
      ]
     },
     "execution_count": 36,
     "metadata": {},
     "output_type": "execute_result"
    }
   ],
   "source": [
    "y_train.value_counts() #check for balancing"
   ]
  },
  {
   "cell_type": "markdown",
   "metadata": {},
   "source": [
    "#### SMOTE for Balancing Data"
   ]
  },
  {
   "cell_type": "code",
   "execution_count": 37,
   "metadata": {},
   "outputs": [
    {
     "data": {
      "text/plain": [
       "1    117288\n",
       "0    117288\n",
       "Name: app, dtype: int64"
      ]
     },
     "execution_count": 37,
     "metadata": {},
     "output_type": "execute_result"
    }
   ],
   "source": [
    "from imblearn.over_sampling import SMOTE\n",
    "oversample = SMOTE()\n",
    "X_os, y_os = oversample.fit_resample(X_train, y_train)\n",
    "y_os.value_counts() #check for balancing"
   ]
  },
  {
   "cell_type": "code",
   "execution_count": 60,
   "metadata": {},
   "outputs": [
    {
     "data": {
      "text/plain": [
       "1    29325\n",
       "0    29325\n",
       "Name: app, dtype: int64"
      ]
     },
     "execution_count": 60,
     "metadata": {},
     "output_type": "execute_result"
    }
   ],
   "source": [
    "X_test_os, y_test_os = oversample.fit_resample(X_test, y_test)\n",
    "y_test_os.value_counts() #check for balancing"
   ]
  },
  {
   "cell_type": "markdown",
   "metadata": {},
   "source": [
    "<a id=\"4\"></a>\n",
    "## Model Building and Evaluation\n",
    "* Due to the heavily unbalanced dataset, Stratified 10-Fold cross validation will be used in order to ensure that each fold will remain representative of the distributions in the dataset as a whole."
   ]
  },
  {
   "cell_type": "markdown",
   "metadata": {},
   "source": [
    "#### Base Decision Tree Model"
   ]
  },
  {
   "cell_type": "code",
   "execution_count": 39,
   "metadata": {},
   "outputs": [],
   "source": [
    "from numpy import mean\n",
    "from sklearn.datasets import make_classification\n",
    "from sklearn.model_selection import cross_val_score\n",
    "from sklearn.model_selection import RepeatedStratifiedKFold\n",
    "from sklearn.ensemble import RandomForestClassifier"
   ]
  },
  {
   "cell_type": "code",
   "execution_count": 41,
   "metadata": {},
   "outputs": [
    {
     "name": "stdout",
     "output_type": "stream",
     "text": [
      "Mean ROC AUC: 0.997\n",
      "Wall time: 1min 29s\n"
     ]
    }
   ],
   "source": [
    "%%time\n",
    "model = RandomForestClassifier()\n",
    "cv = RepeatedStratifiedKFold(n_splits=10, n_repeats=3, random_state=123)\n",
    "scores = cross_val_score(model, X_train, y_train, scoring='roc_auc', cv=cv, n_jobs=-1)\n",
    "print('Mean ROC AUC: %.3f' % mean(scores))"
   ]
  },
  {
   "cell_type": "markdown",
   "metadata": {},
   "source": [
    "#### Model Adjusted with SMOTE Balancing"
   ]
  },
  {
   "cell_type": "code",
   "execution_count": 42,
   "metadata": {},
   "outputs": [
    {
     "name": "stdout",
     "output_type": "stream",
     "text": [
      "Mean ROC AUC: 1.000\n",
      "Wall time: 8min 59s\n"
     ]
    }
   ],
   "source": [
    "%%time\n",
    "os_scores = cross_val_score(model, X_os, y_os, scoring='roc_auc', cv=cv, n_jobs=-1)\n",
    "print('Mean ROC AUC: %.3f' % mean(os_scores))"
   ]
  },
  {
   "cell_type": "markdown",
   "metadata": {},
   "source": [
    "* The scoring is suspiciously high for both the base and SMOTE model likely due to the imbalance in the application target. \n",
    "* The **quote** feature is also particularly concerning here for possible dataleakage as it makes up a significantly high amount of the correlation. \n",
    "    * Particularly because nearly all customers that received quotes also submitted an application, a quote almost automatically predicts an application etc.\n",
    "* Analysis and removal of features leading to possible data leaks would be something to consider further to improve model predictions.\n",
    "    * Possibly using **quote** as a alternate target may also be more useful in future considerations."
   ]
  },
  {
   "cell_type": "markdown",
   "metadata": {},
   "source": [
    "<a id=\"5\"></a>\n",
    "## Model Interpretability and Explainability"
   ]
  },
  {
   "cell_type": "markdown",
   "metadata": {},
   "source": [
    "#### Base Random Forest Model Metrics"
   ]
  },
  {
   "cell_type": "code",
   "execution_count": 69,
   "metadata": {},
   "outputs": [
    {
     "name": "stdout",
     "output_type": "stream",
     "text": [
      "Accuracy of Random Forest Classifier on test set: 0.99\n"
     ]
    }
   ],
   "source": [
    "model.fit(X_train, y_train)\n",
    "y_pred =model.predict(X_test)\n",
    "print('Accuracy of Random Forest Classifier on test set: {:.2f}'.format(model.score(X_test, y_test)))"
   ]
  },
  {
   "cell_type": "code",
   "execution_count": 70,
   "metadata": {},
   "outputs": [
    {
     "name": "stdout",
     "output_type": "stream",
     "text": [
      "              precision    recall  f1-score   support\n",
      "\n",
      "           0       0.99      1.00      1.00     29325\n",
      "           1       0.53      0.23      0.32       207\n",
      "\n",
      "    accuracy                           0.99     29532\n",
      "   macro avg       0.76      0.62      0.66     29532\n",
      "weighted avg       0.99      0.99      0.99     29532\n",
      "\n"
     ]
    }
   ],
   "source": [
    "from sklearn.metrics import classification_report\n",
    "print(classification_report(y_test, y_pred))"
   ]
  },
  {
   "cell_type": "code",
   "execution_count": 72,
   "metadata": {},
   "outputs": [
    {
     "data": {
      "text/plain": [
       "<AxesSubplot:>"
      ]
     },
     "execution_count": 72,
     "metadata": {},
     "output_type": "execute_result"
    },
    {
     "data": {
      "image/png": "[encoded data removed]",
      "text/plain": [
       "<Figure size 432x432 with 2 Axes>"
      ]
     },
     "metadata": {
      "needs_background": "light"
     },
     "output_type": "display_data"
    }
   ],
   "source": [
    "from sklearn.metrics import confusion_matrix\n",
    "cf_test_matrix = confusion_matrix(y_test, y_pred)\n",
    "plt.figure(figsize=(6,6))\n",
    "sns.heatmap(cf_test_matrix, annot=True, fmt='d')"
   ]
  },
  {
   "cell_type": "markdown",
   "metadata": {},
   "source": [
    "#### Random Forest with SMOTE Metrics"
   ]
  },
  {
   "cell_type": "code",
   "execution_count": 78,
   "metadata": {},
   "outputs": [
    {
     "data": {
      "text/plain": [
       "RandomForestClassifier()"
      ]
     },
     "execution_count": 78,
     "metadata": {},
     "output_type": "execute_result"
    }
   ],
   "source": [
    "model.fit(X_os, y_os)"
   ]
  },
  {
   "cell_type": "code",
   "execution_count": 79,
   "metadata": {},
   "outputs": [
    {
     "name": "stdout",
     "output_type": "stream",
     "text": [
      "Accuracy of Random Forest Classifier on test set: 0.99\n"
     ]
    }
   ],
   "source": [
    "y_pred = model.predict(X_test)\n",
    "print('Accuracy of Random Forest Classifier on test set: {:.2f}'.format(model.score(X_test, y_test)))"
   ]
  },
  {
   "cell_type": "code",
   "execution_count": 80,
   "metadata": {},
   "outputs": [
    {
     "name": "stdout",
     "output_type": "stream",
     "text": [
      "              precision    recall  f1-score   support\n",
      "\n",
      "           0       1.00      0.99      1.00     29325\n",
      "           1       0.51      0.80      0.62       207\n",
      "\n",
      "    accuracy                           0.99     29532\n",
      "   macro avg       0.75      0.90      0.81     29532\n",
      "weighted avg       1.00      0.99      0.99     29532\n",
      "\n"
     ]
    }
   ],
   "source": [
    "print(classification_report(y_test, y_pred))"
   ]
  },
  {
   "cell_type": "code",
   "execution_count": 82,
   "metadata": {},
   "outputs": [
    {
     "data": {
      "text/plain": [
       "<AxesSubplot:>"
      ]
     },
     "execution_count": 82,
     "metadata": {},
     "output_type": "execute_result"
    },
    {
     "data": {
      "image/png": "[encoded data removed]",
      "text/plain": [
       "<Figure size 432x432 with 2 Axes>"
      ]
     },
     "metadata": {
      "needs_background": "light"
     },
     "output_type": "display_data"
    }
   ],
   "source": [
    "cf_test_matrix = confusion_matrix(y_test, y_pred)\n",
    "plt.figure(figsize=(6,6))\n",
    "sns.heatmap(cf_test_matrix, annot=True, fmt='d')"
   ]
  },
  {
   "cell_type": "markdown",
   "metadata": {},
   "source": [
    "#### Model Metrics"
   ]
  },
  {
   "cell_type": "markdown",
   "metadata": {},
   "source": [
    "Normally for balanced data, accuracy would be the metric to use. However given the small presence of the target within the dataset, accuracy would be misleading as it is only very accurate at predicting the negative class (app = 0) simply because it makes up 99% of the data.\n",
    "\n",
    "Instead we will look at the following metrics to measure how well the model does at predicting what we want to find (app = 1).\n",
    "\n",
    "* **Precision** metric is the proportion of positive identifications were actually correct.\n",
    "    * In the base model precision is at 0.53 which means about half of the selected predictions made were correct.\n",
    "    * In the model trained on oversampled data the precision was slightly lower at 0.51\n",
    "* **Recall** metric is the proportion of actual positives were identified correctly.\n",
    "    * For the base model recall is at 0.23 meaning only roughly a quarter were correctly predicted of the possible positives it could have made for app = 1.\n",
    "    * In the model trained on oversampled data the recall jumped to 0.8 which means this model is much better at identifying the actual positives, approximately 80% of the dataset minority.   \n",
    "* **F1-score** also improved between models but this is a combined average of precision and recall so improvements were based on the increases to recall."
   ]
  },
  {
   "cell_type": "markdown",
   "metadata": {},
   "source": [
    "<a id=\"6\"></a>\n",
    "## Conclusions"
   ]
  },
  {
   "cell_type": "markdown",
   "metadata": {},
   "source": [
    "Based on the base and oversampled model we can see that recall was the best metric for comparison between those two models. Changes to recall and f1-score would also be a useful metric to compare with similar models in production as it would show improvements in prediction capabilities.\n",
    "\n",
    "Given additional time and resources there are several areas to look at for improvements. Investigating features for multicollinearity, 'quotes' for example, may be too deeply connected with applications and may haved caused some overfitting within the model reducing performance.\n",
    "Looking at perdictions on different targets may also be an option. Using 'contact' for example, if a model were able to predict positive contacts this would also eventually lead to increases in application submissions. \n",
    "In these models I chose to use an oversampled dataset, undersampling is another option that is worth looking at as it may have better performance. \n",
    "Clustering may also be useful here to group features and investigate how they distinguish between the customers which may also improve model performance."
   ]
  },
  {
   "cell_type": "code",
   "execution_count": null,
   "metadata": {},
   "outputs": [],
   "source": []
  }
 ],
 "metadata": {
  "kernelspec": {
   "display_name": "Python 3",
   "language": "python",
   "name": "python3"
  },
  "language_info": {
   "codemirror_mode": {
    "name": "ipython",
    "version": 3
   },
   "file_extension": ".py",
   "mimetype": "text/x-python",
   "name": "python",
   "nbconvert_exporter": "python",
   "pygments_lexer": "ipython3",
   "version": "3.7.4"
  }
 },
 "nbformat": 4,
 "nbformat_minor": 4
}
